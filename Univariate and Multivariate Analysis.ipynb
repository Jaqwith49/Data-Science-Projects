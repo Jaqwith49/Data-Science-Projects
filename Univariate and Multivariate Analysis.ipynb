{
 "cells": [
  {
   "cell_type": "code",
   "execution_count": 8,
   "id": "845674d7",
   "metadata": {},
   "outputs": [],
   "source": [
    "import pandas as pd\n",
    "from scipy import stats"
   ]
  },
  {
   "cell_type": "code",
   "execution_count": 12,
   "id": "77539feb",
   "metadata": {},
   "outputs": [],
   "source": [
    "import matplotlib.pyplot as plt\n",
    "%matplotlib inline"
   ]
  },
  {
   "cell_type": "code",
   "execution_count": 11,
   "id": "fb03d976",
   "metadata": {},
   "outputs": [],
   "source": [
    "import numpy as np"
   ]
  },
  {
   "cell_type": "code",
   "execution_count": 9,
   "id": "ae5298a7",
   "metadata": {},
   "outputs": [],
   "source": [
    "import seaborn as sns\n",
    "diamonds = sns.load_dataset('diamonds')"
   ]
  },
  {
   "cell_type": "code",
   "execution_count": 10,
   "id": "4263a9c1",
   "metadata": {},
   "outputs": [
    {
     "data": {
      "text/html": [
       "<div>\n",
       "<style scoped>\n",
       "    .dataframe tbody tr th:only-of-type {\n",
       "        vertical-align: middle;\n",
       "    }\n",
       "\n",
       "    .dataframe tbody tr th {\n",
       "        vertical-align: top;\n",
       "    }\n",
       "\n",
       "    .dataframe thead th {\n",
       "        text-align: right;\n",
       "    }\n",
       "</style>\n",
       "<table border=\"1\" class=\"dataframe\">\n",
       "  <thead>\n",
       "    <tr style=\"text-align: right;\">\n",
       "      <th></th>\n",
       "      <th>carat</th>\n",
       "      <th>cut</th>\n",
       "      <th>color</th>\n",
       "      <th>clarity</th>\n",
       "      <th>depth</th>\n",
       "      <th>table</th>\n",
       "      <th>price</th>\n",
       "      <th>x</th>\n",
       "      <th>y</th>\n",
       "      <th>z</th>\n",
       "    </tr>\n",
       "  </thead>\n",
       "  <tbody>\n",
       "    <tr>\n",
       "      <th>0</th>\n",
       "      <td>0.23</td>\n",
       "      <td>Ideal</td>\n",
       "      <td>E</td>\n",
       "      <td>SI2</td>\n",
       "      <td>61.5</td>\n",
       "      <td>55.0</td>\n",
       "      <td>326</td>\n",
       "      <td>3.95</td>\n",
       "      <td>3.98</td>\n",
       "      <td>2.43</td>\n",
       "    </tr>\n",
       "    <tr>\n",
       "      <th>1</th>\n",
       "      <td>0.21</td>\n",
       "      <td>Premium</td>\n",
       "      <td>E</td>\n",
       "      <td>SI1</td>\n",
       "      <td>59.8</td>\n",
       "      <td>61.0</td>\n",
       "      <td>326</td>\n",
       "      <td>3.89</td>\n",
       "      <td>3.84</td>\n",
       "      <td>2.31</td>\n",
       "    </tr>\n",
       "    <tr>\n",
       "      <th>2</th>\n",
       "      <td>0.23</td>\n",
       "      <td>Good</td>\n",
       "      <td>E</td>\n",
       "      <td>VS1</td>\n",
       "      <td>56.9</td>\n",
       "      <td>65.0</td>\n",
       "      <td>327</td>\n",
       "      <td>4.05</td>\n",
       "      <td>4.07</td>\n",
       "      <td>2.31</td>\n",
       "    </tr>\n",
       "    <tr>\n",
       "      <th>3</th>\n",
       "      <td>0.29</td>\n",
       "      <td>Premium</td>\n",
       "      <td>I</td>\n",
       "      <td>VS2</td>\n",
       "      <td>62.4</td>\n",
       "      <td>58.0</td>\n",
       "      <td>334</td>\n",
       "      <td>4.20</td>\n",
       "      <td>4.23</td>\n",
       "      <td>2.63</td>\n",
       "    </tr>\n",
       "    <tr>\n",
       "      <th>4</th>\n",
       "      <td>0.31</td>\n",
       "      <td>Good</td>\n",
       "      <td>J</td>\n",
       "      <td>SI2</td>\n",
       "      <td>63.3</td>\n",
       "      <td>58.0</td>\n",
       "      <td>335</td>\n",
       "      <td>4.34</td>\n",
       "      <td>4.35</td>\n",
       "      <td>2.75</td>\n",
       "    </tr>\n",
       "  </tbody>\n",
       "</table>\n",
       "</div>"
      ],
      "text/plain": [
       "   carat      cut color clarity  depth  table  price     x     y     z\n",
       "0   0.23    Ideal     E     SI2   61.5   55.0    326  3.95  3.98  2.43\n",
       "1   0.21  Premium     E     SI1   59.8   61.0    326  3.89  3.84  2.31\n",
       "2   0.23     Good     E     VS1   56.9   65.0    327  4.05  4.07  2.31\n",
       "3   0.29  Premium     I     VS2   62.4   58.0    334  4.20  4.23  2.63\n",
       "4   0.31     Good     J     SI2   63.3   58.0    335  4.34  4.35  2.75"
      ]
     },
     "execution_count": 10,
     "metadata": {},
     "output_type": "execute_result"
    }
   ],
   "source": [
    "diamonds.head() #Let's take a look at a basic view of the dataset we have to work with"
   ]
  },
  {
   "cell_type": "code",
   "execution_count": 27,
   "id": "f7b276fe",
   "metadata": {},
   "outputs": [
    {
     "data": {
      "text/plain": [
       "(array([1990., 4797., 5161., 3834., 2342., 1654.,  920., 1847., 1593.,\n",
       "        1197., 1268., 1199., 1063., 1080.,  826.,  825.,  786.,  711.,\n",
       "         801.,  769.,  903.,  912.,  912.,  868.,  755.,  725.,  704.,\n",
       "         564.,  543.,  507.,  473.,  462.,  460.,  437.,  411.,  339.,\n",
       "         334.,  328.,  327.,  307.,  274.,  267.,  226.,  216.,  240.,\n",
       "         255.,  251.,  205.,  224.,  206.,  184.,  184.,  197.,  161.,\n",
       "         182.,  155.,  176.,  163.,  205.,  138.,  160.,  123.,  140.,\n",
       "         114.,  145.,  115.,  137.,  134.,  121.,  117.,  107.,  112.,\n",
       "         122.,   91.,   91.,  111.,  106.,   94.,   78.,   90.,   98.,\n",
       "          86.,   75.,  110.,   91.,   78.,   91.,   72.,   90.,   72.,\n",
       "          88.,   85.,   70.,   64.,   74.,   74.,   77.,   74.,   60.,\n",
       "          60.]),\n",
       " array([  326.  ,   510.97,   695.94,   880.91,  1065.88,  1250.85,\n",
       "         1435.82,  1620.79,  1805.76,  1990.73,  2175.7 ,  2360.67,\n",
       "         2545.64,  2730.61,  2915.58,  3100.55,  3285.52,  3470.49,\n",
       "         3655.46,  3840.43,  4025.4 ,  4210.37,  4395.34,  4580.31,\n",
       "         4765.28,  4950.25,  5135.22,  5320.19,  5505.16,  5690.13,\n",
       "         5875.1 ,  6060.07,  6245.04,  6430.01,  6614.98,  6799.95,\n",
       "         6984.92,  7169.89,  7354.86,  7539.83,  7724.8 ,  7909.77,\n",
       "         8094.74,  8279.71,  8464.68,  8649.65,  8834.62,  9019.59,\n",
       "         9204.56,  9389.53,  9574.5 ,  9759.47,  9944.44, 10129.41,\n",
       "        10314.38, 10499.35, 10684.32, 10869.29, 11054.26, 11239.23,\n",
       "        11424.2 , 11609.17, 11794.14, 11979.11, 12164.08, 12349.05,\n",
       "        12534.02, 12718.99, 12903.96, 13088.93, 13273.9 , 13458.87,\n",
       "        13643.84, 13828.81, 14013.78, 14198.75, 14383.72, 14568.69,\n",
       "        14753.66, 14938.63, 15123.6 , 15308.57, 15493.54, 15678.51,\n",
       "        15863.48, 16048.45, 16233.42, 16418.39, 16603.36, 16788.33,\n",
       "        16973.3 , 17158.27, 17343.24, 17528.21, 17713.18, 17898.15,\n",
       "        18083.12, 18268.09, 18453.06, 18638.03, 18823.  ]),\n",
       " <BarContainer object of 100 artists>)"
      ]
     },
     "execution_count": 27,
     "metadata": {},
     "output_type": "execute_result"
    },
    {
     "data": {
      "image/png": "[encoded data removed]",
      "text/plain": [
       "<Figure size 432x288 with 1 Axes>"
      ]
     },
     "metadata": {
      "needs_background": "light"
     },
     "output_type": "display_data"
    }
   ],
   "source": [
    "plt.hist(diamonds['price'], 100) \n",
    "#Now that we've seen the data, let's take a little  bit more of a view into the price of diamonds"
   ]
  },
  {
   "cell_type": "code",
   "execution_count": 28,
   "id": "2a8d9c74",
   "metadata": {
    "scrolled": true
   },
   "outputs": [
    {
     "data": {
      "text/plain": [
       "3932.799721913237"
      ]
     },
     "execution_count": 28,
     "metadata": {},
     "output_type": "execute_result"
    }
   ],
   "source": [
    "diamonds['price'].mean() #Let's find the average price"
   ]
  },
  {
   "cell_type": "code",
   "execution_count": 29,
   "id": "e27711b9",
   "metadata": {},
   "outputs": [
    {
     "data": {
      "text/plain": [
       "2401.0"
      ]
     },
     "execution_count": 29,
     "metadata": {},
     "output_type": "execute_result"
    }
   ],
   "source": [
    "diamonds['price'].median() #Let's find the price that's in the middle of the set"
   ]
  },
  {
   "cell_type": "code",
   "execution_count": 30,
   "id": "cc069ffd",
   "metadata": {},
   "outputs": [
    {
     "data": {
      "text/plain": [
       "0    605\n",
       "Name: price, dtype: int64"
      ]
     },
     "execution_count": 30,
     "metadata": {},
     "output_type": "execute_result"
    }
   ],
   "source": [
    "diamonds['price'].mode() #And let's find the most common price"
   ]
  },
  {
   "cell_type": "code",
   "execution_count": 31,
   "id": "0a76bf7e",
   "metadata": {},
   "outputs": [
    {
     "data": {
      "text/plain": [
       "18823"
      ]
     },
     "execution_count": 31,
     "metadata": {},
     "output_type": "execute_result"
    }
   ],
   "source": [
    "diamonds['price'].max() #The highest price of a diamond"
   ]
  },
  {
   "cell_type": "code",
   "execution_count": 32,
   "id": "afbf4c2e",
   "metadata": {},
   "outputs": [
    {
     "data": {
      "text/plain": [
       "326"
      ]
     },
     "execution_count": 32,
     "metadata": {},
     "output_type": "execute_result"
    }
   ],
   "source": [
    "diamonds['price'].min() #And finally the lowest price of a diamond."
   ]
  },
  {
   "cell_type": "code",
   "execution_count": 35,
   "id": "6100e0db",
   "metadata": {},
   "outputs": [
    {
     "data": {
      "text/plain": [
       "[<matplotlib.lines.Line2D at 0x2d1b066e8e0>]"
      ]
     },
     "execution_count": 35,
     "metadata": {},
     "output_type": "execute_result"
    },
    {
     "data": {
      "image/png": "[encoded data removed]",
      "text/plain": [
       "<Figure size 432x288 with 1 Axes>"
      ]
     },
     "metadata": {
      "needs_background": "light"
     },
     "output_type": "display_data"
    }
   ],
   "source": [
    "y = diamonds['price']\n",
    "x = diamonds['carat']\n",
    "\n",
    "plt.plot(x, y, 'o') #Let's take a look at how price might be affected by the carat of the diamond"
   ]
  },
  {
   "cell_type": "code",
   "execution_count": 36,
   "id": "9c8c7c48",
   "metadata": {},
   "outputs": [],
   "source": [
    "#It can be said with fair certainty that the diamond price is fairly well affected overall by the carat of the diamond"
   ]
  },
  {
   "cell_type": "code",
   "execution_count": null,
   "id": "c927c049",
   "metadata": {},
   "outputs": [],
   "source": []
  }
 ],
 "metadata": {
  "kernelspec": {
   "display_name": "Python 3 (ipykernel)",
   "language": "python",
   "name": "python3"
  },
  "language_info": {
   "codemirror_mode": {
    "name": "ipython",
    "version": 3
   },
   "file_extension": ".py",
   "mimetype": "text/x-python",
   "name": "python",
   "nbconvert_exporter": "python",
   "pygments_lexer": "ipython3",
   "version": "3.9.12"
  }
 },
 "nbformat": 4,
 "nbformat_minor": 5
}
